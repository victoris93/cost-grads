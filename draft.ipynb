{
 "cells": [
  {
   "cell_type": "code",
   "execution_count": 1,
   "metadata": {},
   "outputs": [
    {
     "name": "stderr",
     "output_type": "stream",
     "text": [
      "pixdim[1,2,3] should be non-zero; setting 0 dims to 1\n"
     ]
    }
   ],
   "source": [
    "import hcp_utils as hcp\n",
    "from nilearn import datasets, plotting, regions\n",
    "import brainspace\n",
    "import pandas as pd\n",
    "import numpy as np\n",
    "import seaborn as sns\n",
    "import nibabel as nib\n",
    "import matplotlib.pyplot as plt\n",
    "import sys\n",
    "import os\n",
    "sys.path.append('/home/victoria/NeuroConn')\n",
    "sys.path.append('/home/victoria/surfdist')\n",
    "from austin_utils import save_gifti\n",
    "from NeuroConn.preprocessing.preprocessing import FmriPreppedDataSet\n",
    "from NeuroConn.gradient.gradient import get_gradients\n",
    "from brainspace.utils.parcellation import map_to_labels, reduce_by_labels\n",
    "from brainspace.gradient import GradientMaps\n",
    "from brainspace.plotting import plot_hemispheres"
   ]
  },
  {
   "cell_type": "code",
   "execution_count": 64,
   "metadata": {},
   "outputs": [
    {
     "data": {
      "text/plain": [
       "(array([4579]),)"
      ]
     },
     "execution_count": 64,
     "metadata": {},
     "output_type": "execute_result"
    }
   ],
   "source": [
    "np.where(np.where(fsLR_labels_R == 2)[0] == 31908)"
   ]
  },
  {
   "cell_type": "code",
   "execution_count": 40,
   "metadata": {},
   "outputs": [
    {
     "data": {
      "text/plain": [
       "80.08159326324187"
      ]
     },
     "execution_count": 40,
     "metadata": {},
     "output_type": "execute_result"
    }
   ],
   "source": [
    "from surfdist import viz, load, utils, analysis\n",
    "\n",
    "dist_Tpeak_a1_L = analysis.calc_roi_dist(surfL, cortex_L, TpeakTempL, V1L, dist_type='min')\n",
    "dist_Tpeak_a1_L"
   ]
  },
  {
   "cell_type": "code",
   "execution_count": 35,
   "metadata": {},
   "outputs": [],
   "source": [
    "V1dist = analysis.dist_calc(surfL, cortex_L, V1L)"
   ]
  },
  {
   "cell_type": "code",
   "execution_count": 37,
   "metadata": {},
   "outputs": [
    {
     "data": {
      "text/plain": [
       "(<Figure size 640x480 with 1 Axes>, <Axes3D: >)"
      ]
     },
     "execution_count": 37,
     "metadata": {},
     "output_type": "execute_result"
    },
    {
     "data": {
      "image/png": "[encoded data removed]",
      "text/plain": [
       "<Figure size 640x480 with 1 Axes>"
      ]
     },
     "metadata": {},
     "output_type": "display_data"
    }
   ],
   "source": [
    "viz.viz(nodesL, trianglesL, V1dist, cmap = 'coolwarm', azim=180)"
   ]
  },
  {
   "cell_type": "code",
   "execution_count": null,
   "metadata": {},
   "outputs": [
    {
     "name": "stdout",
     "output_type": "stream",
     "text": [
      "Downloading data from https://files.osf.io/v1/resources/4mw3a/providers/osfstorage/60b684b53a6df1021bd4df2d ...\n"
     ]
    },
    {
     "name": "stderr",
     "output_type": "stream",
     "text": [
      "Downloaded 3055616 of 5482474 bytes (55.7%,    0.8s remaining) ...done. (5 seconds, 0 min)\n",
      "Extracting data from /home/victoria/neuromaps-data/599046a594e0e45c04e90291c2348cbe/fsLR32k.tar.gz..... done.\n"
     ]
    }
   ],
   "source": [
    "from neuromaps.datasets import fetch_fslr\n",
    "from surfplot import Plot\n",
    "surfaces = fetch_fslr()\n",
    "lh, rh = surfaces['inflated']"
   ]
  },
  {
   "cell_type": "code",
   "execution_count": null,
   "metadata": {},
   "outputs": [],
   "source": [
    "plot_cols = {\n",
    "    \n",
    "}"
   ]
  },
  {
   "cell_type": "code",
   "execution_count": 2,
   "metadata": {},
   "outputs": [],
   "source": [
    "distances_task = pd.read_csv(\"distances_task_thresh5.csv\")\n"
   ]
  },
  {
   "cell_type": "code",
   "execution_count": 4,
   "metadata": {},
   "outputs": [],
   "source": [
    "long_distances_task = pd.melt(distances_task, id_vars=['participant_id', 'FlashType', 'NrBeeps', 'correct', 'rt', 'correct_abs', 'correct_rel', 'rt_abs', 'rt_rel', 'rt_Cod', 'bl_correct'], value_vars=['Dist to A1, LH', 'Dist to A1, RH', 'Dist to V1, LH', 'Dist to V1, RH'], var_name='Dist Type', value_name='Distance')\n",
    "long_distances_task = pd.melt(long_distances_task, id_vars=['participant_id', 'FlashType', 'NrBeeps', 'Dist Type', \"Distance\"], value_vars=[ 'correct', 'rt', 'correct_abs', 'correct_rel', 'rt_abs', 'rt_rel', 'rt_Cod', 'bl_correct'], var_name = \"Performance Var\", value_name = \"Measure\")"
   ]
  },
  {
   "cell_type": "code",
   "execution_count": 5,
   "metadata": {},
   "outputs": [
    {
     "data": {
      "text/html": [
       "<div>\n",
       "<style scoped>\n",
       "    .dataframe tbody tr th:only-of-type {\n",
       "        vertical-align: middle;\n",
       "    }\n",
       "\n",
       "    .dataframe tbody tr th {\n",
       "        vertical-align: top;\n",
       "    }\n",
       "\n",
       "    .dataframe thead th {\n",
       "        text-align: right;\n",
       "    }\n",
       "</style>\n",
       "<table border=\"1\" class=\"dataframe\">\n",
       "  <thead>\n",
       "    <tr style=\"text-align: right;\">\n",
       "      <th></th>\n",
       "      <th>participant_id</th>\n",
       "      <th>FlashType</th>\n",
       "      <th>NrBeeps</th>\n",
       "      <th>correct</th>\n",
       "      <th>rt</th>\n",
       "      <th>correct_abs</th>\n",
       "      <th>correct_rel</th>\n",
       "      <th>rt_abs</th>\n",
       "      <th>rt_rel</th>\n",
       "      <th>rt_Cod</th>\n",
       "      <th>bl_correct</th>\n",
       "      <th>Dist Type</th>\n",
       "      <th>Distance</th>\n",
       "    </tr>\n",
       "  </thead>\n",
       "  <tbody>\n",
       "    <tr>\n",
       "      <th>0</th>\n",
       "      <td>51902</td>\n",
       "      <td>1</td>\n",
       "      <td>1</td>\n",
       "      <td>1.000000</td>\n",
       "      <td>0.628741</td>\n",
       "      <td>0.000000</td>\n",
       "      <td>0.000000</td>\n",
       "      <td>0.053981</td>\n",
       "      <td>0.079067</td>\n",
       "      <td>0.463472</td>\n",
       "      <td>1.000000</td>\n",
       "      <td>Dist to A1, LH</td>\n",
       "      <td>27.511599</td>\n",
       "    </tr>\n",
       "    <tr>\n",
       "      <th>1</th>\n",
       "      <td>51902</td>\n",
       "      <td>1</td>\n",
       "      <td>2</td>\n",
       "      <td>0.964286</td>\n",
       "      <td>0.811686</td>\n",
       "      <td>-0.035714</td>\n",
       "      <td>-0.035679</td>\n",
       "      <td>-0.128965</td>\n",
       "      <td>-0.188898</td>\n",
       "      <td>-0.632190</td>\n",
       "      <td>1.000000</td>\n",
       "      <td>Dist to A1, LH</td>\n",
       "      <td>27.511599</td>\n",
       "    </tr>\n",
       "    <tr>\n",
       "      <th>2</th>\n",
       "      <td>51902</td>\n",
       "      <td>2</td>\n",
       "      <td>1</td>\n",
       "      <td>0.586207</td>\n",
       "      <td>0.818781</td>\n",
       "      <td>0.052874</td>\n",
       "      <td>0.113058</td>\n",
       "      <td>0.062051</td>\n",
       "      <td>0.070446</td>\n",
       "      <td>0.217052</td>\n",
       "      <td>0.533333</td>\n",
       "      <td>Dist to A1, LH</td>\n",
       "      <td>27.511599</td>\n",
       "    </tr>\n",
       "    <tr>\n",
       "      <th>3</th>\n",
       "      <td>51902</td>\n",
       "      <td>2</td>\n",
       "      <td>2</td>\n",
       "      <td>0.033333</td>\n",
       "      <td>0.819941</td>\n",
       "      <td>-0.500000</td>\n",
       "      <td>-0.935745</td>\n",
       "      <td>0.060892</td>\n",
       "      <td>0.069130</td>\n",
       "      <td>0.209463</td>\n",
       "      <td>0.533333</td>\n",
       "      <td>Dist to A1, LH</td>\n",
       "      <td>27.511599</td>\n",
       "    </tr>\n",
       "    <tr>\n",
       "      <th>4</th>\n",
       "      <td>51902</td>\n",
       "      <td>3</td>\n",
       "      <td>1</td>\n",
       "      <td>0.033333</td>\n",
       "      <td>0.708784</td>\n",
       "      <td>0.000000</td>\n",
       "      <td>0.000000</td>\n",
       "      <td>-0.050041</td>\n",
       "      <td>-0.075964</td>\n",
       "      <td>-0.344501</td>\n",
       "      <td>0.033333</td>\n",
       "      <td>Dist to A1, LH</td>\n",
       "      <td>27.511599</td>\n",
       "    </tr>\n",
       "    <tr>\n",
       "      <th>...</th>\n",
       "      <td>...</td>\n",
       "      <td>...</td>\n",
       "      <td>...</td>\n",
       "      <td>...</td>\n",
       "      <td>...</td>\n",
       "      <td>...</td>\n",
       "      <td>...</td>\n",
       "      <td>...</td>\n",
       "      <td>...</td>\n",
       "      <td>...</td>\n",
       "      <td>...</td>\n",
       "      <td>...</td>\n",
       "      <td>...</td>\n",
       "    </tr>\n",
       "    <tr>\n",
       "      <th>8251</th>\n",
       "      <td>42017</td>\n",
       "      <td>2</td>\n",
       "      <td>2</td>\n",
       "      <td>0.033333</td>\n",
       "      <td>0.833385</td>\n",
       "      <td>-0.863218</td>\n",
       "      <td>-0.961748</td>\n",
       "      <td>-0.085185</td>\n",
       "      <td>-0.113853</td>\n",
       "      <td>-0.313300</td>\n",
       "      <td>0.896552</td>\n",
       "      <td>Dist to V1, RH</td>\n",
       "      <td>85.459626</td>\n",
       "    </tr>\n",
       "    <tr>\n",
       "      <th>8252</th>\n",
       "      <td>42017</td>\n",
       "      <td>3</td>\n",
       "      <td>1</td>\n",
       "      <td>0.133333</td>\n",
       "      <td>0.772891</td>\n",
       "      <td>0.066667</td>\n",
       "      <td>0.071352</td>\n",
       "      <td>-0.007251</td>\n",
       "      <td>-0.009471</td>\n",
       "      <td>-0.030168</td>\n",
       "      <td>0.066667</td>\n",
       "      <td>Dist to V1, RH</td>\n",
       "      <td>85.459626</td>\n",
       "    </tr>\n",
       "    <tr>\n",
       "      <th>8253</th>\n",
       "      <td>42017</td>\n",
       "      <td>3</td>\n",
       "      <td>2</td>\n",
       "      <td>0.033333</td>\n",
       "      <td>0.916801</td>\n",
       "      <td>-0.033333</td>\n",
       "      <td>-0.492611</td>\n",
       "      <td>-0.151160</td>\n",
       "      <td>-0.197430</td>\n",
       "      <td>-0.304682</td>\n",
       "      <td>0.066667</td>\n",
       "      <td>Dist to V1, RH</td>\n",
       "      <td>85.459626</td>\n",
       "    </tr>\n",
       "    <tr>\n",
       "      <th>8254</th>\n",
       "      <td>42017</td>\n",
       "      <td>4</td>\n",
       "      <td>1</td>\n",
       "      <td>0.866667</td>\n",
       "      <td>0.795912</td>\n",
       "      <td>-0.033333</td>\n",
       "      <td>-0.036996</td>\n",
       "      <td>0.066045</td>\n",
       "      <td>0.076622</td>\n",
       "      <td>0.197237</td>\n",
       "      <td>0.900000</td>\n",
       "      <td>Dist to V1, RH</td>\n",
       "      <td>85.459626</td>\n",
       "    </tr>\n",
       "    <tr>\n",
       "      <th>8255</th>\n",
       "      <td>42017</td>\n",
       "      <td>4</td>\n",
       "      <td>2</td>\n",
       "      <td>0.100000</td>\n",
       "      <td>0.989421</td>\n",
       "      <td>-0.800000</td>\n",
       "      <td>-0.887902</td>\n",
       "      <td>-0.127464</td>\n",
       "      <td>-0.147877</td>\n",
       "      <td>-0.274639</td>\n",
       "      <td>0.900000</td>\n",
       "      <td>Dist to V1, RH</td>\n",
       "      <td>85.459626</td>\n",
       "    </tr>\n",
       "  </tbody>\n",
       "</table>\n",
       "<p>8256 rows × 13 columns</p>\n",
       "</div>"
      ],
      "text/plain": [
       "      participant_id  FlashType  NrBeeps   correct        rt  correct_abs  \\\n",
       "0              51902          1        1  1.000000  0.628741     0.000000   \n",
       "1              51902          1        2  0.964286  0.811686    -0.035714   \n",
       "2              51902          2        1  0.586207  0.818781     0.052874   \n",
       "3              51902          2        2  0.033333  0.819941    -0.500000   \n",
       "4              51902          3        1  0.033333  0.708784     0.000000   \n",
       "...              ...        ...      ...       ...       ...          ...   \n",
       "8251           42017          2        2  0.033333  0.833385    -0.863218   \n",
       "8252           42017          3        1  0.133333  0.772891     0.066667   \n",
       "8253           42017          3        2  0.033333  0.916801    -0.033333   \n",
       "8254           42017          4        1  0.866667  0.795912    -0.033333   \n",
       "8255           42017          4        2  0.100000  0.989421    -0.800000   \n",
       "\n",
       "      correct_rel    rt_abs    rt_rel    rt_Cod  bl_correct       Dist Type  \\\n",
       "0        0.000000  0.053981  0.079067  0.463472    1.000000  Dist to A1, LH   \n",
       "1       -0.035679 -0.128965 -0.188898 -0.632190    1.000000  Dist to A1, LH   \n",
       "2        0.113058  0.062051  0.070446  0.217052    0.533333  Dist to A1, LH   \n",
       "3       -0.935745  0.060892  0.069130  0.209463    0.533333  Dist to A1, LH   \n",
       "4        0.000000 -0.050041 -0.075964 -0.344501    0.033333  Dist to A1, LH   \n",
       "...           ...       ...       ...       ...         ...             ...   \n",
       "8251    -0.961748 -0.085185 -0.113853 -0.313300    0.896552  Dist to V1, RH   \n",
       "8252     0.071352 -0.007251 -0.009471 -0.030168    0.066667  Dist to V1, RH   \n",
       "8253    -0.492611 -0.151160 -0.197430 -0.304682    0.066667  Dist to V1, RH   \n",
       "8254    -0.036996  0.066045  0.076622  0.197237    0.900000  Dist to V1, RH   \n",
       "8255    -0.887902 -0.127464 -0.147877 -0.274639    0.900000  Dist to V1, RH   \n",
       "\n",
       "       Distance  \n",
       "0     27.511599  \n",
       "1     27.511599  \n",
       "2     27.511599  \n",
       "3     27.511599  \n",
       "4     27.511599  \n",
       "...         ...  \n",
       "8251  85.459626  \n",
       "8252  85.459626  \n",
       "8253  85.459626  \n",
       "8254  85.459626  \n",
       "8255  85.459626  \n",
       "\n",
       "[8256 rows x 13 columns]"
      ]
     },
     "execution_count": 5,
     "metadata": {},
     "output_type": "execute_result"
    }
   ],
   "source": [
    "from scipy.stats import pearsonr\n",
    "import matplotlib as mpl\n",
    "mpl.rcParams['svg.fonttype'] = 'none'\n",
    "\n",
    "def annotate_corr(x, y, **kwargs):\n",
    "    r, pval = pearsonr(x, y)\n",
    "    ax = plt.gca()\n",
    "    ax.annotate(f\"r = {r:.2f}\\np = {pval:.2f}\", xy=(.1, .9), xycoords=ax.transAxes)\n",
    "\n",
    "g = sns.FacetGrid(long_distances_task[long_distances_task[\"FlashType\"] == 1], col=\"Dist Type\", row = 'Performance Var', hue=\"NrBeeps\", height=4, aspect=1, margin_titles=True, sharex = False, sharey = False)\n",
    "g.map(sns.regplot, \"Measure\", \"Distance\")#.add_legend().map(annotate_corr, \"Measure\", \"Distance\")\n",
    "g.add_legend()\n",
    "plt.savefig(\"Flash1_scatter.svg\", dpi = 300, format = 'svg')"
   ]
  }
 ],
 "metadata": {
  "kernelspec": {
   "display_name": "neuro",
   "language": "python",
   "name": "python3"
  },
  "language_info": {
   "codemirror_mode": {
    "name": "ipython",
    "version": 3
   },
   "file_extension": ".py",
   "mimetype": "text/x-python",
   "name": "python",
   "nbconvert_exporter": "python",
   "pygments_lexer": "ipython3",
   "version": "3.11.4"
  },
  "orig_nbformat": 4
 },
 "nbformat": 4,
 "nbformat_minor": 2
}
